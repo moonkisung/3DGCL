{
 "cells": [
  {
   "cell_type": "code",
   "execution_count": 1,
   "id": "0a00e7c6",
   "metadata": {},
   "outputs": [
    {
     "data": {
      "text/html": [
       "<style>.container { width:90% !important; }</style>"
      ],
      "text/plain": [
       "<IPython.core.display.HTML object>"
      ]
     },
     "metadata": {},
     "output_type": "display_data"
    }
   ],
   "source": [
    "from IPython.core.display import display, HTML\n",
    "display(HTML(\"<style>.container { width:90% !important; }</style>\"))\n",
    "\n",
    "import pandas as pd\n",
    "import matplotlib.pyplot as plt\n",
    "from rdkit import RDLogger \n",
    "RDLogger.DisableLog('rdApp.*')\n",
    "import torch\n",
    "from torch.utils.tensorboard import SummaryWriter\n",
    "\n",
    "import sys\n",
    "sys.path.insert(0,'..')\n",
    "sys.path.insert(0,'../..')\n",
    "\n",
    "from dig.sslgraph.utils import Encoder\n",
    "from dig.sslgraph.evaluation import Pretrain\n",
    "from dig.threedgraph.dataset import MoleculeNet, QM\n",
    "from dig.sslgraph.method import GraphCL\n",
    "\n",
    "import argparse\n",
    "\n",
    "paser = argparse.ArgumentParser()\n",
    "args = paser.parse_args(\"\")"
   ]
  },
  {
   "cell_type": "code",
   "execution_count": 2,
   "id": "a55bb330",
   "metadata": {},
   "outputs": [],
   "source": [
    "#dataset = MoleculeNet(root='dataset/', name='esol')\n",
    "#dataset.data"
   ]
  },
  {
   "cell_type": "code",
   "execution_count": 3,
   "id": "fddd6ecd",
   "metadata": {},
   "outputs": [
    {
     "name": "stdout",
     "output_type": "stream",
     "text": [
      "proj_head == schnet\n"
     ]
    },
    {
     "name": "stderr",
     "output_type": "stream",
     "text": [
      "Pretraining: epoch 1:   0%|          | 0/500 [00:00<?, ?it/s]"
     ]
    },
    {
     "name": "stdout",
     "output_type": "stream",
     "text": [
      "./models/enc_pretrain-esol_batch-400_encoder-schnet_proj-schnet_node_features-True_cutoff-5.0_layers-2_filter-128_gau-50_z_dim-512_lr-0.001_aug_1-MMFF1_aug_2-MMFF2_aug_ratio-0.25_tau-0.2_optim-ExponentialLR_weight_decay-0_expo_gamma-0.97_dropout-0.0\n"
     ]
    },
    {
     "name": "stderr",
     "output_type": "stream",
     "text": [
      "Pretraining: epoch 500: 100%|██████████| 500/500 [05:56<00:00,  1.40it/s, loss=12.0722]\n"
     ]
    }
   ],
   "source": [
    "def main():\n",
    "    # Finetune or rand init\n",
    "    args.finetune = False\n",
    "    args.seed = 2222\n",
    "\n",
    "    # File Path\n",
    "    args.model_path = './models'\n",
    "\n",
    "    # Device\n",
    "    args.device = torch.device('cuda:1' if torch.cuda.is_available() else 'cpu')\n",
    "\n",
    "    # Dataset\n",
    "    args.pretrain_dataset = 'esol'\n",
    "    args.batch_size = 400\n",
    "    \n",
    "    # Model\n",
    "    args.encoder = 'schnet'\n",
    "    args.cutoff = 5.0  # [5.0, 10.0]\n",
    "    args.num_layers = 2 # [2, 4]\n",
    "    args.num_filters = 128\n",
    "    args.num_gaussians = 50\n",
    "    args.z_dim = 512\n",
    "    \n",
    "    args.int_emb_size = 64\n",
    "    args.basis_emb_size_dist = 8\n",
    "    args.basis_emb_size_angle = 8\n",
    "    args.basis_emb_size_torsion = 8\n",
    "    args.out_emb_channels = 256\n",
    "    args.num_spherical = 3\n",
    "    args.num_radial = 6\n",
    "    args.envelope_exponent = 5\n",
    "    args.num_before_skip = 1\n",
    "    args.num_after_skip = 2\n",
    "    args.num_output_layers = 3\n",
    "    args.use_node_features = True\n",
    "\n",
    "    # Learning\n",
    "    args.p_epoch = 500\n",
    "    args.p_lr = 1e-3\n",
    "    args.aug_1, args.aug_2 = 'MMFF1', 'MMFF2'\n",
    "    args.aug_ratio = 0.25\n",
    "    args.tau = 0.2\n",
    "    args.proj = 'spherenet'\n",
    "\n",
    "    # Regularization\n",
    "    args.dropout_rate = 0.0\n",
    "\n",
    "    args.p_optim = 'ExponentialLR' #['StepLR', ExponentialLR, 'Cosine']\n",
    "    \n",
    "    #'StepLR'\n",
    "    args.p_weight_decay = 0\n",
    "    args.p_lr_decay_step_size = 15  # 15 epoch 마다 lr * p_lr_decay_factor\n",
    "    args.p_lr_decay_factor = 0.5\n",
    "\n",
    "    # ExponentialLR\n",
    "    args.expo_gamma = 0.97\n",
    "    \n",
    "    # Cosine\n",
    "    args.T_0 = 20        # 최초 주기값\n",
    "    args.T_mult = 2      # 최초 주기값에 비해 얼만큼 주기를 늘려갈 것인지\n",
    "    args.eta_max = 0.05  # lr 최대값\n",
    "    args.T_up = 10      # Warm up 시 필요한 epoch 수(일반적으로 짧은 수)\n",
    "    args.gamma = 0.5     # 주기가 반복될수록 곱해지는 scale 값\n",
    "\n",
    "    encoder = Encoder(args)\n",
    "    graphcl = GraphCL(args)  # , device=args.device\n",
    "    evaluator = Pretrain(args)\n",
    "    encoder = evaluator.evaluate(learning_model=graphcl, encoder=encoder)\n",
    "    \n",
    "if __name__ == \"__main__\":\n",
    "    main()"
   ]
  }
 ],
 "metadata": {
  "kernelspec": {
   "display_name": "Python 3",
   "language": "python",
   "name": "python3"
  },
  "language_info": {
   "codemirror_mode": {
    "name": "ipython",
    "version": 3
   },
   "file_extension": ".py",
   "mimetype": "text/x-python",
   "name": "python",
   "nbconvert_exporter": "python",
   "pygments_lexer": "ipython3",
   "version": "3.6.9"
  }
 },
 "nbformat": 4,
 "nbformat_minor": 5
}
