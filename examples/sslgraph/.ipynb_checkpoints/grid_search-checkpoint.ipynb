{
 "cells": [
  {
   "cell_type": "markdown",
   "metadata": {},
   "source": [
    "## Example of GraphCL with grid search"
   ]
  },
  {
   "cell_type": "code",
   "execution_count": 1,
   "metadata": {},
   "outputs": [
    {
     "data": {
      "text/html": [
       "<style>.container { width:90% !important; }</style>"
      ],
      "text/plain": [
       "<IPython.core.display.HTML object>"
      ]
     },
     "metadata": {},
     "output_type": "display_data"
    }
   ],
   "source": [
    "import sys\n",
    "sys.path.insert(0,'..')\n",
    "sys.path.insert(0,'../..')\n",
    "import torch\n",
    "\n",
    "from dig.sslgraph.utils import Encoder\n",
    "from dig.sslgraph.evaluation import GraphUnsupervised\n",
    "from dig.threedgraph.dataset import MoleculeNet\n",
    "from dig.sslgraph.method import GraphCL\n",
    "from rdkit import RDLogger \n",
    "RDLogger.DisableLog('rdApp.*')\n",
    "\n",
    "from IPython.core.display import display, HTML\n",
    "display(HTML(\"<style>.container { width:90% !important; }</style>\"))\n",
    "\n",
    "import csv\n",
    "import pandas as pd"
   ]
  },
  {
   "cell_type": "markdown",
   "metadata": {},
   "source": [
    "# Tox21"
   ]
  },
  {
   "cell_type": "code",
   "execution_count": null,
   "metadata": {},
   "outputs": [],
   "source": [
    "esol = MoleculeNet(root='dataset/', name='esol')  # regression\n",
    "freesolv = MoleculeNet(root='dataset/', name='freesolv')  # regression\n",
    "lipo = MoleculeNet(root='dataset/', name='lipo')  # regression\n",
    "hiv = MoleculeNet(root='dataset/', name='hiv')    # binary\n",
    "bace = MoleculeNet(root='dataset/', name='bace')  # binary\n",
    "bbbp = MoleculeNet(root='dataset/', name='bbbp')  # binary\n",
    "clintox = MoleculeNet(root='dataset/', name='clintox')  # binary\n",
    "tox21 = MoleculeNet(root='dataset/', name='tox21') # 12\n",
    "sider = MoleculeNet(root='dataset/', name='sider')  # 27\n",
    "\n",
    "embed_dim = 64\n",
    "p_epoch = 5\n",
    "n_folds = 2\n",
    "f_epoch = 1\n",
    "\n",
    "encoder = Encoder(gnn='schnet', energy_and_force=False, cutoff=10.0, num_layers=5, hidden_channels=embed_dim, num_filters=128, num_gaussians=50)\n",
    "graphcl = GraphCL(embed_dim, aug_1='ETKDG1', aug_2='ETKDG2', tau=0.2)\n",
    "evaluator = GraphUnsupervised(dataset_pretrain=freesolv, dataset=sider, out_dim=27, split='scaffold', log_interval=10, p_lr = 0.0005, p_epoch=p_epoch, device=torch.device('cuda:1'),\n",
    "                             batch_size=32, f_lr=0.0001, n_folds=n_folds, f_epoch=f_epoch)\n",
    "evaluator.grid_search(learning_model=graphcl, encoder=encoder, task_type='cls', \n",
    "                      p_lr_lst=[0.01, 0.001], p_epoch_lst=[1], f_lr_lst=[0.001], f_epoch_lst=[1])"
   ]
  },
  {
   "cell_type": "code",
   "execution_count": null,
   "metadata": {},
   "outputs": [],
   "source": []
  },
  {
   "cell_type": "code",
   "execution_count": 3,
   "metadata": {},
   "outputs": [
    {
     "data": {
      "text/plain": [
       "0.9057859661922021"
      ]
     },
     "execution_count": 3,
     "metadata": {},
     "output_type": "execute_result"
    }
   ],
   "source": [
    "import numpy as np\n",
    "a = [0.8582720588235294, 0.9389868910826995, 0.9200989486703772]\n",
    "np.mean(a)"
   ]
  },
  {
   "cell_type": "code",
   "execution_count": 4,
   "metadata": {},
   "outputs": [
    {
     "name": "stdout",
     "output_type": "stream",
     "text": [
      "ETKDG1\n",
      "ETKDG2\n",
      "proj_head in_dim 64\n",
      "proj_head out_dim 64\n"
     ]
    },
    {
     "name": "stderr",
     "output_type": "stream",
     "text": [
      "Pretraining: epoch 2:  20%|██        | 1/5 [02:32<10:11, 152.94s/it, loss=nan]\n"
     ]
    },
    {
     "ename": "KeyboardInterrupt",
     "evalue": "",
     "output_type": "error",
     "traceback": [
      "\u001b[0;31m\u001b[0m",
      "\u001b[0;31mKeyboardInterrupt\u001b[0mTraceback (most recent call last)",
      "\u001b[0;32m<ipython-input-4-76a6196f1087>\u001b[0m in \u001b[0;36m<module>\u001b[0;34m\u001b[0m\n\u001b[1;32m     20\u001b[0m                              batch_size=32, f_lr=0.0001, n_folds=n_folds, f_epoch=f_epoch)\n\u001b[1;32m     21\u001b[0m loss_m_tox21,loss_sd_tox21, paras_tox21 = evaluator.grid_search(learning_model=graphcl, encoder=encoder, task_type='cls', \n\u001b[0;32m---> 22\u001b[0;31m                                                                 p_lr_lst=[0.01, 0.001, 0.00001], p_epoch_lst=[5, 10, 30, 50], f_lr_lst=[0.01, 0.001, 0.00001], f_epoch_lst=[5, 10, 30, 70])\n\u001b[0m",
      "\u001b[0;32m/tf/notebooks/Graph/ChemicalAI/DIG/dig/sslgraph/evaluation/eval.py\u001b[0m in \u001b[0;36mgrid_search\u001b[0;34m(self, learning_model, encoder, task_type, fold_seed, p_lr_lst, p_epoch_lst, f_lr_lst, f_epoch_lst)\u001b[0m\n\u001b[1;32m    336\u001b[0m                             \u001b[0mmodel\u001b[0m \u001b[0;34m=\u001b[0m \u001b[0mcopy\u001b[0m\u001b[0;34m.\u001b[0m\u001b[0mdeepcopy\u001b[0m\u001b[0;34m(\u001b[0m\u001b[0mlearning_model\u001b[0m\u001b[0;34m)\u001b[0m\u001b[0;34m\u001b[0m\u001b[0;34m\u001b[0m\u001b[0m\n\u001b[1;32m    337\u001b[0m                             \u001b[0menc\u001b[0m \u001b[0;34m=\u001b[0m \u001b[0mcopy\u001b[0m\u001b[0;34m.\u001b[0m\u001b[0mdeepcopy\u001b[0m\u001b[0;34m(\u001b[0m\u001b[0mencoder\u001b[0m\u001b[0;34m)\u001b[0m\u001b[0;34m\u001b[0m\u001b[0;34m\u001b[0m\u001b[0m\n\u001b[0;32m--> 338\u001b[0;31m                             \u001b[0mauc_m\u001b[0m\u001b[0;34m,\u001b[0m \u001b[0mauc_sd\u001b[0m \u001b[0;34m=\u001b[0m \u001b[0mself\u001b[0m\u001b[0;34m.\u001b[0m\u001b[0mevaluate\u001b[0m\u001b[0;34m(\u001b[0m\u001b[0mmodel\u001b[0m\u001b[0;34m,\u001b[0m \u001b[0menc\u001b[0m\u001b[0;34m,\u001b[0m \u001b[0mfold_seed\u001b[0m\u001b[0;34m)\u001b[0m\u001b[0;34m\u001b[0m\u001b[0;34m\u001b[0m\u001b[0m\n\u001b[0m\u001b[1;32m    339\u001b[0m                             \u001b[0mprint\u001b[0m\u001b[0;34m(\u001b[0m\u001b[0;34m'auc_m'\u001b[0m\u001b[0;34m,\u001b[0m \u001b[0mauc_m\u001b[0m\u001b[0;34m)\u001b[0m\u001b[0;34m\u001b[0m\u001b[0;34m\u001b[0m\u001b[0m\n\u001b[1;32m    340\u001b[0m                             \u001b[0mauc_m_lst\u001b[0m\u001b[0;34m.\u001b[0m\u001b[0mappend\u001b[0m\u001b[0;34m(\u001b[0m\u001b[0mauc_m\u001b[0m\u001b[0;34m)\u001b[0m\u001b[0;34m\u001b[0m\u001b[0;34m\u001b[0m\u001b[0m\n",
      "\u001b[0;32m/tf/notebooks/Graph/ChemicalAI/DIG/dig/sslgraph/evaluation/eval.py\u001b[0m in \u001b[0;36mevaluate\u001b[0;34m(self, learning_model, encoder, finetune, task_type, pred_head, fold_seed)\u001b[0m\n\u001b[1;32m    215\u001b[0m                                                       weight_decay=self.p_weight_decay)\n\u001b[1;32m    216\u001b[0m             \u001b[0;32mif\u001b[0m \u001b[0mself\u001b[0m\u001b[0;34m.\u001b[0m\u001b[0mp_epoch\u001b[0m \u001b[0;34m>\u001b[0m \u001b[0;36m0\u001b[0m\u001b[0;34m:\u001b[0m\u001b[0;34m\u001b[0m\u001b[0;34m\u001b[0m\u001b[0m\n\u001b[0;32m--> 217\u001b[0;31m                 \u001b[0mencoder\u001b[0m \u001b[0;34m=\u001b[0m \u001b[0mnext\u001b[0m\u001b[0;34m(\u001b[0m\u001b[0mlearning_model\u001b[0m\u001b[0;34m.\u001b[0m\u001b[0mtrain\u001b[0m\u001b[0;34m(\u001b[0m\u001b[0mencoder\u001b[0m\u001b[0;34m,\u001b[0m \u001b[0mpretrain_loader\u001b[0m\u001b[0;34m,\u001b[0m \u001b[0mp_optimizer\u001b[0m\u001b[0;34m,\u001b[0m \u001b[0mself\u001b[0m\u001b[0;34m.\u001b[0m\u001b[0mp_epoch\u001b[0m\u001b[0;34m)\u001b[0m\u001b[0;34m)\u001b[0m\u001b[0;34m\u001b[0m\u001b[0;34m\u001b[0m\u001b[0m\n\u001b[0m\u001b[1;32m    218\u001b[0m             \u001b[0mmodel\u001b[0m \u001b[0;34m=\u001b[0m \u001b[0mPredictionModel\u001b[0m\u001b[0;34m(\u001b[0m\u001b[0mencoder\u001b[0m\u001b[0;34m,\u001b[0m \u001b[0mpred_head\u001b[0m\u001b[0;34m,\u001b[0m \u001b[0mlearning_model\u001b[0m\u001b[0;34m.\u001b[0m\u001b[0mz_dim\u001b[0m\u001b[0;34m,\u001b[0m \u001b[0mself\u001b[0m\u001b[0;34m.\u001b[0m\u001b[0mout_dim\u001b[0m\u001b[0;34m)\u001b[0m\u001b[0;34m.\u001b[0m\u001b[0mto\u001b[0m\u001b[0;34m(\u001b[0m\u001b[0mself\u001b[0m\u001b[0;34m.\u001b[0m\u001b[0mdevice\u001b[0m\u001b[0;34m)\u001b[0m\u001b[0;34m\u001b[0m\u001b[0;34m\u001b[0m\u001b[0m\n\u001b[1;32m    219\u001b[0m             \u001b[0mval\u001b[0m \u001b[0;34m=\u001b[0m \u001b[0;32mnot\u001b[0m \u001b[0;34m(\u001b[0m\u001b[0mself\u001b[0m\u001b[0;34m.\u001b[0m\u001b[0mepoch_select\u001b[0m \u001b[0;34m==\u001b[0m \u001b[0;34m'test_max'\u001b[0m \u001b[0;32mor\u001b[0m \u001b[0mself\u001b[0m\u001b[0;34m.\u001b[0m\u001b[0mepoch_select\u001b[0m \u001b[0;34m==\u001b[0m\u001b[0;34m'test_min'\u001b[0m\u001b[0;34m)\u001b[0m  \u001b[0;31m# 뭐지??\u001b[0m\u001b[0;34m\u001b[0m\u001b[0;34m\u001b[0m\u001b[0m\n",
      "\u001b[0;32m/tf/notebooks/Graph/ChemicalAI/DIG/dig/sslgraph/method/contrastive/model/graphcl.py\u001b[0m in \u001b[0;36mtrain\u001b[0;34m(self, encoders, data_loader, optimizer, epochs, per_epoch_out)\u001b[0m\n\u001b[1;32m     93\u001b[0m         \u001b[0;31m# GraphCL removes projection heads after pre-training\u001b[0m\u001b[0;34m\u001b[0m\u001b[0;34m\u001b[0m\u001b[0;34m\u001b[0m\u001b[0m\n\u001b[1;32m     94\u001b[0m         for enc, proj in super(GraphCL, self).train(encoders, data_loader, \n\u001b[0;32m---> 95\u001b[0;31m                                                     optimizer, epochs, per_epoch_out):\n\u001b[0m\u001b[1;32m     96\u001b[0m             \u001b[0;32myield\u001b[0m \u001b[0menc\u001b[0m\u001b[0;34m\u001b[0m\u001b[0;34m\u001b[0m\u001b[0m\n",
      "\u001b[0;32m/tf/notebooks/Graph/ChemicalAI/DIG/dig/sslgraph/method/contrastive/model/contrastive.py\u001b[0m in \u001b[0;36mtrain\u001b[0;34m(self, encoder, data_loader, optimizer, epochs, per_epoch_out)\u001b[0m\n\u001b[1;32m    137\u001b[0m             \u001b[0mtrain_fn\u001b[0m \u001b[0;34m=\u001b[0m \u001b[0mself\u001b[0m\u001b[0;34m.\u001b[0m\u001b[0mtrain_encoder_node\u001b[0m\u001b[0;34m\u001b[0m\u001b[0;34m\u001b[0m\u001b[0m\n\u001b[1;32m    138\u001b[0m \u001b[0;34m\u001b[0m\u001b[0m\n\u001b[0;32m--> 139\u001b[0;31m         \u001b[0;32mfor\u001b[0m \u001b[0menc\u001b[0m \u001b[0;32min\u001b[0m \u001b[0mtrain_fn\u001b[0m\u001b[0;34m(\u001b[0m\u001b[0mencoder\u001b[0m\u001b[0;34m,\u001b[0m \u001b[0mdata_loader\u001b[0m\u001b[0;34m,\u001b[0m \u001b[0moptimizer\u001b[0m\u001b[0;34m,\u001b[0m \u001b[0mepochs\u001b[0m\u001b[0;34m)\u001b[0m\u001b[0;34m:\u001b[0m\u001b[0;34m\u001b[0m\u001b[0;34m\u001b[0m\u001b[0m\n\u001b[0m\u001b[1;32m    140\u001b[0m             \u001b[0;32myield\u001b[0m \u001b[0menc\u001b[0m\u001b[0;34m\u001b[0m\u001b[0;34m\u001b[0m\u001b[0m\n\u001b[1;32m    141\u001b[0m \u001b[0;34m\u001b[0m\u001b[0m\n",
      "\u001b[0;32m/tf/notebooks/Graph/ChemicalAI/DIG/dig/sslgraph/method/contrastive/model/contrastive.py\u001b[0m in \u001b[0;36mtrain_encoder_graph\u001b[0;34m(self, encoder, data_loader, optimizer, epochs)\u001b[0m\n\u001b[1;32m    187\u001b[0m                     \u001b[0mloss\u001b[0m \u001b[0;34m=\u001b[0m \u001b[0mself\u001b[0m\u001b[0;34m.\u001b[0m\u001b[0mloss_fn\u001b[0m\u001b[0;34m(\u001b[0m\u001b[0mzs\u001b[0m\u001b[0;34m,\u001b[0m \u001b[0mneg_by_crpt\u001b[0m\u001b[0;34m=\u001b[0m\u001b[0mself\u001b[0m\u001b[0;34m.\u001b[0m\u001b[0mneg_by_crpt\u001b[0m\u001b[0;34m,\u001b[0m \u001b[0mtau\u001b[0m\u001b[0;34m=\u001b[0m\u001b[0mself\u001b[0m\u001b[0;34m.\u001b[0m\u001b[0mtau\u001b[0m\u001b[0;34m)\u001b[0m\u001b[0;34m\u001b[0m\u001b[0;34m\u001b[0m\u001b[0m\n\u001b[1;32m    188\u001b[0m                     \u001b[0mloss\u001b[0m\u001b[0;34m.\u001b[0m\u001b[0mbackward\u001b[0m\u001b[0;34m(\u001b[0m\u001b[0;34m)\u001b[0m\u001b[0;34m\u001b[0m\u001b[0;34m\u001b[0m\u001b[0m\n\u001b[0;32m--> 189\u001b[0;31m                     \u001b[0moptimizer\u001b[0m\u001b[0;34m.\u001b[0m\u001b[0mstep\u001b[0m\u001b[0;34m(\u001b[0m\u001b[0;34m)\u001b[0m\u001b[0;34m\u001b[0m\u001b[0;34m\u001b[0m\u001b[0m\n\u001b[0m\u001b[1;32m    190\u001b[0m                     \u001b[0mepoch_loss\u001b[0m \u001b[0;34m+=\u001b[0m \u001b[0mloss\u001b[0m\u001b[0;34m\u001b[0m\u001b[0;34m\u001b[0m\u001b[0m\n\u001b[1;32m    191\u001b[0m \u001b[0;34m\u001b[0m\u001b[0m\n",
      "\u001b[0;32m/usr/local/lib/python3.6/dist-packages/torch/autograd/grad_mode.py\u001b[0m in \u001b[0;36mdecorate_context\u001b[0;34m(*args, **kwargs)\u001b[0m\n\u001b[1;32m     24\u001b[0m         \u001b[0;32mdef\u001b[0m \u001b[0mdecorate_context\u001b[0m\u001b[0;34m(\u001b[0m\u001b[0;34m*\u001b[0m\u001b[0margs\u001b[0m\u001b[0;34m,\u001b[0m \u001b[0;34m**\u001b[0m\u001b[0mkwargs\u001b[0m\u001b[0;34m)\u001b[0m\u001b[0;34m:\u001b[0m\u001b[0;34m\u001b[0m\u001b[0;34m\u001b[0m\u001b[0m\n\u001b[1;32m     25\u001b[0m             \u001b[0;32mwith\u001b[0m \u001b[0mself\u001b[0m\u001b[0;34m.\u001b[0m\u001b[0m__class__\u001b[0m\u001b[0;34m(\u001b[0m\u001b[0;34m)\u001b[0m\u001b[0;34m:\u001b[0m\u001b[0;34m\u001b[0m\u001b[0;34m\u001b[0m\u001b[0m\n\u001b[0;32m---> 26\u001b[0;31m                 \u001b[0;32mreturn\u001b[0m \u001b[0mfunc\u001b[0m\u001b[0;34m(\u001b[0m\u001b[0;34m*\u001b[0m\u001b[0margs\u001b[0m\u001b[0;34m,\u001b[0m \u001b[0;34m**\u001b[0m\u001b[0mkwargs\u001b[0m\u001b[0;34m)\u001b[0m\u001b[0;34m\u001b[0m\u001b[0;34m\u001b[0m\u001b[0m\n\u001b[0m\u001b[1;32m     27\u001b[0m         \u001b[0;32mreturn\u001b[0m \u001b[0mcast\u001b[0m\u001b[0;34m(\u001b[0m\u001b[0mF\u001b[0m\u001b[0;34m,\u001b[0m \u001b[0mdecorate_context\u001b[0m\u001b[0;34m)\u001b[0m\u001b[0;34m\u001b[0m\u001b[0;34m\u001b[0m\u001b[0m\n\u001b[1;32m     28\u001b[0m \u001b[0;34m\u001b[0m\u001b[0m\n",
      "\u001b[0;32m/usr/local/lib/python3.6/dist-packages/torch/optim/adam.py\u001b[0m in \u001b[0;36mstep\u001b[0;34m(self, closure)\u001b[0m\n\u001b[1;32m    117\u001b[0m                    \u001b[0mgroup\u001b[0m\u001b[0;34m[\u001b[0m\u001b[0;34m'lr'\u001b[0m\u001b[0;34m]\u001b[0m\u001b[0;34m,\u001b[0m\u001b[0;34m\u001b[0m\u001b[0;34m\u001b[0m\u001b[0m\n\u001b[1;32m    118\u001b[0m                    \u001b[0mgroup\u001b[0m\u001b[0;34m[\u001b[0m\u001b[0;34m'weight_decay'\u001b[0m\u001b[0;34m]\u001b[0m\u001b[0;34m,\u001b[0m\u001b[0;34m\u001b[0m\u001b[0;34m\u001b[0m\u001b[0m\n\u001b[0;32m--> 119\u001b[0;31m                    \u001b[0mgroup\u001b[0m\u001b[0;34m[\u001b[0m\u001b[0;34m'eps'\u001b[0m\u001b[0;34m]\u001b[0m\u001b[0;34m\u001b[0m\u001b[0;34m\u001b[0m\u001b[0m\n\u001b[0m\u001b[1;32m    120\u001b[0m                    )\n\u001b[1;32m    121\u001b[0m         \u001b[0;32mreturn\u001b[0m \u001b[0mloss\u001b[0m\u001b[0;34m\u001b[0m\u001b[0;34m\u001b[0m\u001b[0m\n",
      "\u001b[0;32m/usr/local/lib/python3.6/dist-packages/torch/optim/functional.py\u001b[0m in \u001b[0;36madam\u001b[0;34m(params, grads, exp_avgs, exp_avg_sqs, max_exp_avg_sqs, state_steps, amsgrad, beta1, beta2, lr, weight_decay, eps)\u001b[0m\n\u001b[1;32m     96\u001b[0m         \u001b[0mstep_size\u001b[0m \u001b[0;34m=\u001b[0m \u001b[0mlr\u001b[0m \u001b[0;34m/\u001b[0m \u001b[0mbias_correction1\u001b[0m\u001b[0;34m\u001b[0m\u001b[0;34m\u001b[0m\u001b[0m\n\u001b[1;32m     97\u001b[0m \u001b[0;34m\u001b[0m\u001b[0m\n\u001b[0;32m---> 98\u001b[0;31m         \u001b[0mparam\u001b[0m\u001b[0;34m.\u001b[0m\u001b[0maddcdiv_\u001b[0m\u001b[0;34m(\u001b[0m\u001b[0mexp_avg\u001b[0m\u001b[0;34m,\u001b[0m \u001b[0mdenom\u001b[0m\u001b[0;34m,\u001b[0m \u001b[0mvalue\u001b[0m\u001b[0;34m=\u001b[0m\u001b[0;34m-\u001b[0m\u001b[0mstep_size\u001b[0m\u001b[0;34m)\u001b[0m\u001b[0;34m\u001b[0m\u001b[0;34m\u001b[0m\u001b[0m\n\u001b[0m",
      "\u001b[0;31mKeyboardInterrupt\u001b[0m: "
     ]
    }
   ],
   "source": [
    "esol = MoleculeNet(root='dataset/', name='esol')  # regression\n",
    "freesolv = MoleculeNet(root='dataset/', name='freesolv')  # regression\n",
    "lipo = MoleculeNet(root='dataset/', name='lipo')  # regression\n",
    "hiv = MoleculeNet(root='dataset/', name='hiv')    # binary\n",
    "bace = MoleculeNet(root='dataset/', name='bace')  # binary\n",
    "bbbp = MoleculeNet(root='dataset/', name='bbbp')  # binary\n",
    "clintox = MoleculeNet(root='dataset/', name='clintox')  # binary\n",
    "tox21 = MoleculeNet(root='dataset/', name='tox21') # 12\n",
    "sider = MoleculeNet(root='dataset/', name='sider')  # 27\n",
    "moleculenet = MoleculeNet(root='dataset/', name='moleculenet') \n",
    "\n",
    "embed_dim = 64\n",
    "p_epoch = 5\n",
    "n_folds = 4\n",
    "f_epoch = 1\n",
    "\n",
    "encoder = Encoder(gnn='schnet', energy_and_force=False, cutoff=10.0, num_layers=5, hidden_channels=embed_dim, num_filters=128, num_gaussians=50)\n",
    "graphcl = GraphCL(embed_dim, aug_1='ETKDG1', aug_2='ETKDG2', tau=0.2)\n",
    "evaluator = GraphUnsupervised(dataset_pretrain=moleculenet, dataset=tox21, out_dim=12, split='scaffold', log_interval=10, p_lr = 0.0005, p_epoch=p_epoch, device=torch.device('cuda:1'),\n",
    "                             batch_size=32, f_lr=0.0001, n_folds=n_folds, f_epoch=f_epoch)\n",
    "loss_m_tox21,loss_sd_tox21, paras_tox21 = evaluator.grid_search(learning_model=graphcl, encoder=encoder, task_type='cls', \n",
    "                                                                p_lr_lst=[0.005, 0.001, 0.00001], p_epoch_lst=[5, 10, 30, 50], f_lr_lst=[0.01, 0.001, 0.00001], f_epoch_lst=[5, 10, 30, 70])"
   ]
  }
 ],
 "metadata": {
  "kernelspec": {
   "display_name": "Python 3",
   "language": "python",
   "name": "python3"
  },
  "language_info": {
   "codemirror_mode": {
    "name": "ipython",
    "version": 3
   },
   "file_extension": ".py",
   "mimetype": "text/x-python",
   "name": "python",
   "nbconvert_exporter": "python",
   "pygments_lexer": "ipython3",
   "version": "3.6.9"
  }
 },
 "nbformat": 4,
 "nbformat_minor": 4
}
