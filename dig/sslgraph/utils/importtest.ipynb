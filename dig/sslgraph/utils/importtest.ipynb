{
 "cells": [
  {
   "cell_type": "code",
   "execution_count": 1,
   "id": "cd64db01",
   "metadata": {},
   "outputs": [
    {
     "ename": "ModuleNotFoundError",
     "evalue": "No module named 'features'",
     "output_type": "error",
     "traceback": [
      "\u001b[0;31m\u001b[0m",
      "\u001b[0;31mModuleNotFoundError\u001b[0mTraceback (most recent call last)",
      "\u001b[0;32m<ipython-input-1-9dad9d1a3221>\u001b[0m in \u001b[0;36m<module>\u001b[0;34m\u001b[0m\n\u001b[0;32m----> 1\u001b[0;31m \u001b[0;32mfrom\u001b[0m \u001b[0mspherenet\u001b[0m\u001b[0;34m.\u001b[0m\u001b[0mspherenet\u001b[0m \u001b[0;32mimport\u001b[0m \u001b[0mSphereNet\u001b[0m\u001b[0;34m\u001b[0m\u001b[0;34m\u001b[0m\u001b[0m\n\u001b[0m",
      "\u001b[0;32m/tf/notebooks/Graph/ChemicalAI/DIG/dig/sslgraph/utils/spherenet/spherenet.py\u001b[0m in \u001b[0;36m<module>\u001b[0;34m\u001b[0m\n\u001b[1;32m      9\u001b[0m \u001b[0;34m\u001b[0m\u001b[0m\n\u001b[1;32m     10\u001b[0m \u001b[0;31m#from ...utils import xyz_to_dat\u001b[0m\u001b[0;34m\u001b[0m\u001b[0;34m\u001b[0m\u001b[0;34m\u001b[0m\u001b[0m\n\u001b[0;32m---> 11\u001b[0;31m \u001b[0;32mfrom\u001b[0m \u001b[0mfeatures\u001b[0m \u001b[0;32mimport\u001b[0m \u001b[0mdist_emb\u001b[0m\u001b[0;34m,\u001b[0m \u001b[0mangle_emb\u001b[0m\u001b[0;34m,\u001b[0m \u001b[0mtorsion_emb\u001b[0m\u001b[0;34m\u001b[0m\u001b[0;34m\u001b[0m\u001b[0m\n\u001b[0m\u001b[1;32m     12\u001b[0m \u001b[0;34m\u001b[0m\u001b[0m\n\u001b[1;32m     13\u001b[0m \u001b[0;32mtry\u001b[0m\u001b[0;34m:\u001b[0m\u001b[0;34m\u001b[0m\u001b[0;34m\u001b[0m\u001b[0m\n",
      "\u001b[0;31mModuleNotFoundError\u001b[0m: No module named 'features'"
     ]
    }
   ],
   "source": [
    "from spherenet.spherenet import SphereNet"
   ]
  },
  {
   "cell_type": "code",
   "execution_count": null,
   "id": "24ab7671",
   "metadata": {},
   "outputs": [],
   "source": [
    "from dimenetpp.dimenetpp import DimeNetPP"
   ]
  },
  {
   "cell_type": "code",
   "execution_count": null,
   "id": "728b07f3",
   "metadata": {},
   "outputs": [],
   "source": [
    "import DimeNetPP\n"
   ]
  },
  {
   "cell_type": "code",
   "execution_count": null,
   "id": "eef03c88",
   "metadata": {},
   "outputs": [],
   "source": [
    "from spherenet import SphereNet"
   ]
  },
  {
   "cell_type": "code",
   "execution_count": null,
   "id": "b8ba1c93",
   "metadata": {},
   "outputs": [],
   "source": []
  }
 ],
 "metadata": {
  "kernelspec": {
   "display_name": "Python 3",
   "language": "python",
   "name": "python3"
  },
  "language_info": {
   "codemirror_mode": {
    "name": "ipython",
    "version": 3
   },
   "file_extension": ".py",
   "mimetype": "text/x-python",
   "name": "python",
   "nbconvert_exporter": "python",
   "pygments_lexer": "ipython3",
   "version": "3.6.9"
  }
 },
 "nbformat": 4,
 "nbformat_minor": 5
}
